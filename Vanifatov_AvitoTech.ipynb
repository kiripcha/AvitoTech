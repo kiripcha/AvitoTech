{
 "cells": [
  {
   "cell_type": "markdown",
   "id": "3f03d63f",
   "metadata": {},
   "source": [
    "# Task 1\n",
    "\n",
    "- Необходимо составить план тестирования для функциональности “Избранное” для трёх объявлений из разных категорий."
   ]
  },
  {
   "cell_type": "markdown",
   "id": "231b1f5d",
   "metadata": {},
   "source": [
    "### План тестирования функциональности \"Избранное\":\n",
    "\n",
    "#### Требования:\n",
    "\n",
    "- Проверка будет проводиться для неавторизованного пользователя\n",
    "- Проверять только Desktop-версию и Chrome-браузер последней стабильной версии\n",
    "\n",
    "#### Тестируемые функции:\n",
    "\n",
    "- Добавление объявления в \"Избранное\" со страницы объявления\n",
    "- Добавление объявления в \"Избранное\" со страницы поиска\n",
    "- Удаление объявления из \"Избранное\"\n",
    "- Просмотр объявления из \"Избранное\"\n",
    "- Проверка количества объявлений в \"Избранное\"\n",
    "\n",
    "#### Шаги тестирования:\n",
    "\n",
    "Добавление объявления в \"Избранное\" со страницы объявления:\n",
    "- Открыть браузер и перейти на https://www.avito.ru\n",
    "- Найти любое объявление на сайте.\n",
    "- Нажать на кнопку \"В избранное\", чтобы добавить объявление в \"Избранное\".\n",
    "- Проверить, что объявление добавлено в \"Избранное\" путем перехода на страницу избранных объявлений и проверки наличия добавленного объявления на этой странице.\n",
    "\n",
    "Добавление объявления в \"Избранное\" со страницы поиска:\n",
    "- Открыть браузер и перейти на https://www.avito.ru\n",
    "- Ввести в строке поиска ключевые слова для поиска объявлений.\n",
    "- Нажать на любое найденное объявление, чтобы перейти на страницу объявления.\n",
    "- Нажать на кнопку \"В избранное\", чтобы добавить объявление в \"Избранное\".\n",
    "- Проверить, что объявление добавлено в \"Избранное\" путем перехода на страницу избранных объявлений и проверки наличия добавленного объявления на этой странице.\n",
    "\n",
    "Удаление объявления из \"Избранное\":\n",
    "- Открыть браузер и перейти на https://www.avito.ru/favorites\n",
    "- Нажать на кнопку \"Удалить\" рядом с любым объявлением в списке избранных.\n",
    "- Проверить, что объявление удалено из списка избранных путем проверки отсутствия удаленного объявления на странице избранных объявлений.\n",
    "\n",
    "Просмотр объявления из \"Избранное\":\n",
    "- Открыть браузер и перейти на https://www.avito.ru/favorites\n",
    "- Нажать на любое объявление в списке избранных, чтобы перейти на страницу объявления.\n",
    "- Проверить, что открылась страница с выбранным объявлением.\n",
    "\n",
    "Проверка количества объявлений в \"Избранное\":\n",
    "- Открыть браузер и перейти на https://www.avito.ru/favorites\n",
    "- Проверить, что количество объявлений на странице избранных соответствует действительному количеству добавленных в \"Избранное\" объявлений на данный момент."
   ]
  },
  {
   "cell_type": "markdown",
   "id": "72e088a3",
   "metadata": {},
   "source": [
    "### Тестирование добавление объявлений в избранное и проверка их наличия на соответсвтующей странице"
   ]
  },
  {
   "cell_type": "code",
   "execution_count": 1,
   "id": "9ec52135",
   "metadata": {},
   "outputs": [
    {
     "name": "stdout",
     "output_type": "stream",
     "text": [
      "Тест успешно выполнен.\n"
     ]
    }
   ],
   "source": [
    "from selenium import webdriver\n",
    "from selenium.webdriver.common.by import By\n",
    "from selenium.webdriver.support.ui import WebDriverWait\n",
    "from selenium.webdriver.support import expected_conditions as EC\n",
    "from selenium.common.exceptions import TimeoutException\n",
    "import time\n",
    "\n",
    "\n",
    "def add_ad_to_favorites(ad_url, max_attempts=5):\n",
    "    for attempt in range(max_attempts):\n",
    "        try:\n",
    "            driver.get(ad_url)\n",
    "            time.sleep(2)\n",
    "            \n",
    "            add_to_favorites_button = WebDriverWait(driver, 60).until(\n",
    "                EC.element_to_be_clickable((By.CLASS_NAME, \"desktop-usq1f1\"))\n",
    "            )\n",
    "            add_to_favorites_button.click()\n",
    "            break\n",
    "        except TimeoutException:\n",
    "            print(f\"Попытка {attempt + 1} не удалась. Повторение...\")\n",
    "    else:\n",
    "        raise TimeoutException(f\"Не удалось найти кнопку 'Добавить в избранное' после {max_attempts} попыток\")\n",
    "        \n",
    "\n",
    "def go_to_favorites_page():\n",
    "    favorites_button = WebDriverWait(driver, 60).until(\n",
    "        EC.element_to_be_clickable((By.CLASS_NAME, \"desktop-1gzlbya\"))\n",
    "    )\n",
    "    favorites_button.click()\n",
    "\n",
    "\n",
    "driver = webdriver.Chrome()\n",
    "\n",
    "try:\n",
    "    ad_urls = [\n",
    "        \"https://www.avito.ru/moskva/produkty_pitaniya/yablokikabachkitykvy_dachnye_2234897853\",\n",
    "        \"https://www.avito.ru/moskva/muzykalnye_instrumenty/novaya_ukulele_flight_nuc_3_2392452713\",\n",
    "        \"https://www.avito.ru/moskva/tovary_dlya_kompyutera/kompyuternyy_korpus_1stplayer_megaview_mv6_white_m_2784406578\"\n",
    "    ]\n",
    "\n",
    "    for ad_url in ad_urls:\n",
    "        add_ad_to_favorites(ad_url)\n",
    "        time.sleep(2)\n",
    "\n",
    "    go_to_favorites_page()\n",
    "\n",
    "    print(\"Тест успешно выполнен.\")\n",
    "except AssertionError as e:\n",
    "    print(f\"Тест провален: {e}\")\n",
    "except TimeoutException as e:\n",
    "    print(f\"Тест провален по таймауту: {e}\")\n",
    "\n",
    "driver.quit()\n"
   ]
  },
  {
   "cell_type": "markdown",
   "id": "10592a00",
   "metadata": {},
   "source": [
    "# Task 2\n",
    "- Добавить в избранное с карточки объявления."
   ]
  },
  {
   "cell_type": "code",
   "execution_count": 2,
   "id": "2d77c77f",
   "metadata": {},
   "outputs": [
    {
     "name": "stdout",
     "output_type": "stream",
     "text": [
      "Размер окна браузера: 1920x1080\n",
      "Объявление добавлено в избранное.\n"
     ]
    }
   ],
   "source": [
    "from selenium import webdriver\n",
    "from selenium.webdriver.common.by import By\n",
    "from selenium.webdriver.common.keys import Keys\n",
    "from selenium.common.exceptions import NoSuchElementException\n",
    "import time\n",
    "\n",
    "driver = webdriver.Chrome()\n",
    "\n",
    "def add_to_favorites():\n",
    "    try:\n",
    "        favorite_button = driver.find_element(By.CSS_SELECTOR, \"button.desktop-usq1f1\")\n",
    "        favorite_button.click()\n",
    "        print(\"Объявление добавлено в избранное.\")\n",
    "        time.sleep(3)\n",
    "    except NoSuchElementException:\n",
    "        print(\"Кнопка 'Добавить в избранное' не найдена.\")\n",
    "\n",
    "try:\n",
    "    driver.get(\"https://www.avito.ru/nikel/knigi_i_zhurnaly/domain-driven_design_distilled_vaughn_vernon_2639542363\")\n",
    "    ad_title = driver.find_element(By.CSS_SELECTOR, \"span.title-info-title-text\")\n",
    "\n",
    "    driver.set_window_size(1920, 1080)\n",
    "    window_size = driver.get_window_size()\n",
    "    print(f\"Размер окна браузера: {window_size['width']}x{window_size['height']}\")\n",
    "\n",
    "    add_to_favorites()\n",
    "\n",
    "    \n",
    "except Exception as e:\n",
    "    print(\"Произошла ошибка:\", e)\n",
    "\n",
    "finally:\n",
    "    driver.quit()\n"
   ]
  },
  {
   "cell_type": "code",
   "execution_count": null,
   "id": "1049d455",
   "metadata": {},
   "outputs": [],
   "source": []
  }
 ],
 "metadata": {
  "kernelspec": {
   "display_name": "Python 3 (ipykernel)",
   "language": "python",
   "name": "python3"
  },
  "language_info": {
   "codemirror_mode": {
    "name": "ipython",
    "version": 3
   },
   "file_extension": ".py",
   "mimetype": "text/x-python",
   "name": "python",
   "nbconvert_exporter": "python",
   "pygments_lexer": "ipython3",
   "version": "3.9.13"
  }
 },
 "nbformat": 4,
 "nbformat_minor": 5
}
